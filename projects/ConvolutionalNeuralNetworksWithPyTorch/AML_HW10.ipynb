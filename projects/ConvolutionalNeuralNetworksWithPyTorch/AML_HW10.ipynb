{
 "cells": [
  {
   "cell_type": "markdown",
   "metadata": {
    "colab_type": "text",
    "id": "vUTgGUi4JEft"
   },
   "source": [
    "# Homework 10 - CIFAR10 Image Classification with PyTorch"
   ]
  },
  {
   "cell_type": "markdown",
   "metadata": {
    "colab_type": "text",
    "id": "T5Kx8gJBJEW_"
   },
   "source": [
    "## About"
   ]
  },
  {
   "cell_type": "markdown",
   "metadata": {
    "colab_type": "text",
    "id": "aRAalfd1GITX"
   },
   "source": [
    "The goal of the homework is to train a convolutional neural network on the standard CIFAR10 image classfication dataset.\n",
    "\n",
    "When solving machine learning tasks using neural networks, one typically starts with a simple network architecture and then improves the network by adding new layers, retraining, adjusting parameters, retraining, etc.  We attempt to illustrate this process below with several architecture improvements.\n"
   ]
  },
  {
   "cell_type": "markdown",
   "metadata": {
    "colab_type": "text",
    "id": "OCl5gakxJes-"
   },
   "source": [
    "## Dev Environment\n",
    "### Working on Google Colab\n",
    "You may choose to work locally or on Google Colaboratory. You have access to free compute through this service.   Colab is recommended since it will be setup correctly and will have access to GPU resources.\n",
    "1. Visit https://colab.research.google.com/drive \n",
    "2. Navigate to the **`Upload`** tab, and upload your `HW10.ipynb`\n",
    "3. Now on the top right corner, under the `Comment` and `Share` options, you should see a `Connect` option. Once you are connected, you will have access to a VM with 12GB RAM, 50 GB disk space and a single GPU. The dropdown menu will allow you to connect to a local runtime as well.\n",
    "\n",
    "**Notes:** \n",
    "* **If you do not have a working setup for Python 3, this is your best bet. It will also save you from heavy installations like `tensorflow` if you don't want to deal with those.**\n",
    "* ***There is a downside*. You can only use this instance for a single 12-hour stretch, after which your data will be deleted, and you would have redownload all your datasets, any libraries not already on the VM, and regenerate your logs**.\n",
    "\n",
    "\n",
    "### Installing PyTorch and Dependencies\n",
    "\n",
    "The instructions for installing and setting up PyTorch can be found at https://pytorch.org/get-started/locally/. Make sure you follow the instructions for your machine. For any of the remaining libraries used in this assignment:\n",
    "* We have provided a `hw8_requirements.txt` file on the homework web page. \n",
    "* Download this file, and in the same directory you can run `pip3 install -r hw8_requirements.txt`\n",
    "​\n",
    "Check that PyTorch installed correctly by running the following:"
   ]
  },
  {
   "cell_type": "code",
   "execution_count": 1,
   "metadata": {
    "colab": {},
    "colab_type": "code",
    "id": "IaJ6BLrAJeCU"
   },
   "outputs": [
    {
     "data": {
      "text/plain": [
       "tensor([[0.6398, 0.0932, 0.0209],\n",
       "        [0.4176, 0.6075, 0.1721],\n",
       "        [0.9150, 0.2526, 0.3910],\n",
       "        [0.3211, 0.1050, 0.4954],\n",
       "        [0.4711, 0.1303, 0.8044]])"
      ]
     },
     "execution_count": 1,
     "metadata": {},
     "output_type": "execute_result"
    }
   ],
   "source": [
    "import torch\n",
    "torch.rand(5, 3)"
   ]
  },
  {
   "cell_type": "markdown",
   "metadata": {
    "colab_type": "text",
    "id": "nEmmCk1IJiGn"
   },
   "source": [
    "## Part 0 Imports and Basic Setup  (5 Points)"
   ]
  },
  {
   "cell_type": "markdown",
   "metadata": {
    "colab_type": "text",
    "id": "Y3mTddKuXPBU"
   },
   "source": [
    "First, import the required libraries as follows. The libraries we will use will be the same as those in HW8. "
   ]
  },
  {
   "cell_type": "code",
   "execution_count": 2,
   "metadata": {
    "colab": {},
    "colab_type": "code",
    "id": "UwtDsq3VbrNY"
   },
   "outputs": [],
   "source": [
    "import numpy as np\n",
    "import torch\n",
    "from torch import nn\n",
    "from torch import optim\n",
    "\n",
    "import matplotlib.pyplot as plt"
   ]
  },
  {
   "cell_type": "markdown",
   "metadata": {
    "colab_type": "text",
    "id": "QWKp_UGlWTyR"
   },
   "source": [
    "**GPU Support**\n",
    "\n",
    "Training of large network can take a long time. PyTorch supports GPU with just a small amount of effort.\n",
    "\n",
    "When creating our networks, we will call \n",
    "`net.to(device)` to tell the network to train on the GPU, if one is available.  Note, if the network utilizes the GPU, it is important that any tensors we use with it (such as the data) also reside on the CPU.  Thus, a call like `images = images.to(device)` is necessary with any data we want to use with the GPU.\n",
    "\n",
    "Note: If you can't get access to a GPU, don't worry to much.  Since we use very small networks, the difference between CPU and GPU isn't large and in some cases GPU will actually be slower."
   ]
  },
  {
   "cell_type": "code",
   "execution_count": 3,
   "metadata": {
    "colab": {},
    "colab_type": "code",
    "id": "gbGGmnIXYca9"
   },
   "outputs": [
    {
     "name": "stdout",
     "output_type": "stream",
     "text": [
      "cuda:0\n"
     ]
    }
   ],
   "source": [
    "import torch.cuda as cuda\n",
    "\n",
    "# Use a GPU, i.e. cuda:0 device if it available.\n",
    "device = torch.device(\"cuda:0\" if cuda.is_available() else \"cpu\")\n",
    "print(device)"
   ]
  },
  {
   "cell_type": "markdown",
   "metadata": {},
   "source": [
    "### Training Code"
   ]
  },
  {
   "cell_type": "code",
   "execution_count": 5,
   "metadata": {
    "cellView": "form",
    "colab": {},
    "colab_type": "code",
    "id": "_DZm8ammPCbL"
   },
   "outputs": [],
   "source": [
    "import time\n",
    "\n",
    "class Flatten(nn.Module):\n",
    "  \"\"\"NN Module that flattens the incoming tensor.\"\"\"\n",
    "  def forward(self, input):\n",
    "    return input.view(input.size(0), -1)\n",
    "  \n",
    "def train(model, train_loader, test_loader, loss_func, opt, num_epochs=10):\n",
    "  all_training_loss = np.zeros((0,2))\n",
    "  all_training_acc = np.zeros((0,2))\n",
    "  all_test_loss = np.zeros((0,2))\n",
    "  all_test_acc = np.zeros((0,2))\n",
    "  \n",
    "  training_step = 0\n",
    "  training_loss, training_acc = 2.0, 0.0\n",
    "  print_every = 1000\n",
    "  \n",
    "  start = time.clock()\n",
    "  \n",
    "  for i in range(num_epochs):\n",
    "    epoch_start = time.clock() \n",
    "   \n",
    "    model.train()\n",
    "    for images, labels in train_loader:\n",
    "      images, labels = images.to(device), labels.to(device)\n",
    "      opt.zero_grad()\n",
    "\n",
    "      preds = model(images)\n",
    "      loss = loss_func(preds, labels)\n",
    "      loss.backward()\n",
    "      opt.step()\n",
    "      \n",
    "      training_loss += loss.item()\n",
    "      training_acc += (torch.argmax(preds, dim=1)==labels).float().mean()\n",
    "      \n",
    "      if training_step % print_every == 0:\n",
    "        training_loss /= print_every\n",
    "        training_acc /= print_every\n",
    "        \n",
    "        all_training_loss = np.concatenate((all_training_loss, [[training_step, training_loss]]))\n",
    "        all_training_acc = np.concatenate((all_training_acc, [[training_step, training_acc]]))\n",
    "        \n",
    "        print('  Epoch %d @ step %d: Train Loss: %3f, Train Accuracy: %3f' % (\n",
    "            i, training_step, training_loss, training_acc))\n",
    "        training_loss, training_acc = 0.0, 0.0\n",
    "        \n",
    "      training_step+=1\n",
    "\n",
    "    model.eval()\n",
    "    with torch.no_grad():\n",
    "      validation_loss, validation_acc = 0.0, 0.0\n",
    "      count = 0\n",
    "      for images, labels in test_loader:\n",
    "        images, labels = images.to(device), labels.to(device)\n",
    "        output = model(images)\n",
    "        validation_loss+=loss_func(output,labels)\n",
    "        validation_acc+=(torch.argmax(output, dim=1) == labels).float().mean()\n",
    "        count += 1\n",
    "      validation_loss/=count\n",
    "      validation_acc/=count\n",
    "      \n",
    "      all_test_loss = np.concatenate((all_test_loss, [[training_step, validation_loss]]))\n",
    "      all_test_acc = np.concatenate((all_test_acc, [[training_step, validation_acc]]))\n",
    "      \n",
    "      epoch_time = time.clock() - epoch_start\n",
    "      \n",
    "      print('Epoch %d Test Loss: %3f, Test Accuracy: %3f, time: %.1fs' % (\n",
    "          i, validation_loss, validation_acc, epoch_time))\n",
    "      \n",
    "  total_time = time.clock() - start\n",
    "  print('Final Test Loss: %3f, Test Accuracy: %3f, Total time: %.1fs' % (\n",
    "      validation_loss, validation_acc, total_time))\n",
    "\n",
    "  return {'loss': { 'train': all_training_loss, 'test': all_test_loss },\n",
    "          'accuracy': { 'train': all_training_acc, 'test': all_test_acc }}\n",
    "\n",
    "def plot_graphs(model_name, metrics):\n",
    "  for metric, values in metrics.items():\n",
    "    for name, v in values.items():\n",
    "      plt.plot(v[:,0], v[:,1], label=name)\n",
    "    plt.title(f'{metric} for {model_name}')\n",
    "    plt.legend()\n",
    "    plt.xlabel(\"Training Steps\")\n",
    "    plt.ylabel(metric)\n",
    "    plt.show()\n",
    "    "
   ]
  },
  {
   "cell_type": "markdown",
   "metadata": {
    "colab_type": "text",
    "id": "1RupXQbCaXb3"
   },
   "source": [
    "Load the** CIFA-10** dataset and define the transformations. You may also want to print its structure, size, as well as sample a few images to get a sense of how to design the network. "
   ]
  },
  {
   "cell_type": "code",
   "execution_count": 6,
   "metadata": {
    "colab": {},
    "colab_type": "code",
    "id": "mIJmLIgaZ_d3"
   },
   "outputs": [],
   "source": [
    "!mkdir hw10_data"
   ]
  },
  {
   "cell_type": "code",
   "execution_count": 7,
   "metadata": {
    "colab": {},
    "colab_type": "code",
    "id": "aDBbPmPPaQuG"
   },
   "outputs": [
    {
     "name": "stderr",
     "output_type": "stream",
     "text": [
      "0.0%"
     ]
    },
    {
     "name": "stdout",
     "output_type": "stream",
     "text": [
      "Downloading https://www.cs.toronto.edu/~kriz/cifar-10-python.tar.gz to hw10_data/cifar-10-python.tar.gz\n"
     ]
    },
    {
     "name": "stderr",
     "output_type": "stream",
     "text": [
      "100.0%"
     ]
    },
    {
     "name": "stdout",
     "output_type": "stream",
     "text": [
      "Files already downloaded and verified\n"
     ]
    }
   ],
   "source": [
    "# Download the data.\n",
    "from torchvision import datasets, transforms\n",
    "\n",
    "transformations = transforms.Compose(\n",
    "    [transforms.ToTensor(),\n",
    "     transforms.Normalize((0.5, 0.5, 0.5), (0.5, 0.5, 0.5))])\n",
    "train_set = datasets.CIFAR10(root='hw10_data/', download=True, transform=transformations)\n",
    "test_set = datasets.CIFAR10(root='hw10_data', download=True, train=False, transform=transformations)"
   ]
  },
  {
   "cell_type": "markdown",
   "metadata": {
    "colab_type": "text",
    "id": "dfomsGyJiKz9"
   },
   "source": [
    "Use `DataLoader` to create a loader for the training set and a loader for the testing set. You can use a `batch_size` of 8 to start, and change it if you wish."
   ]
  },
  {
   "cell_type": "code",
   "execution_count": 8,
   "metadata": {
    "colab": {},
    "colab_type": "code",
    "id": "Ioe04mbSiQiV"
   },
   "outputs": [],
   "source": [
    "from torch.utils.data import DataLoader\n",
    "\n",
    "batch_size = 8\n",
    "train_loader = torch.utils.data.DataLoader(train_set, batch_size, shuffle=True, num_workers=2)\n",
    "test_loader = torch.utils.data.DataLoader(test_set, batch_size, shuffle=True, num_workers=2)\n",
    "\n",
    "input_shape = np.array(train_set[0][0]).shape\n",
    "input_dim = input_shape[1]*input_shape[2]*input_shape[0]\n"
   ]
  },
  {
   "cell_type": "code",
   "execution_count": 9,
   "metadata": {
    "colab": {},
    "colab_type": "code",
    "id": "fGoPdmuUOOiE"
   },
   "outputs": [],
   "source": [
    "training_epochs = 5"
   ]
  },
  {
   "cell_type": "markdown",
   "metadata": {
    "colab_type": "text",
    "id": "3T2-qkh8frqF"
   },
   "source": [
    "## Part 1 CIFAR10 with Fully Connected Neural Netowrk (25 Points)\n",
    "\n",
    "As a warm-up, let's begin by training a two-layer fully connected neural network model on ** CIFAR-10** dataset. You may go back to check HW8 for some basics.\n",
    "\n",
    "We will give you this code to use as a baseline to compare against your CNN models."
   ]
  },
  {
   "cell_type": "code",
   "execution_count": 10,
   "metadata": {
    "colab": {},
    "colab_type": "code",
    "id": "Ck1CGpRycRFE"
   },
   "outputs": [
    {
     "name": "stderr",
     "output_type": "stream",
     "text": [
      "c:\\users\\lin\\appdata\\local\\programs\\python\\python37\\lib\\site-packages\\ipykernel_launcher.py:18: DeprecationWarning: time.clock has been deprecated in Python 3.3 and will be removed from Python 3.8: use time.perf_counter or time.process_time instead\n",
      "c:\\users\\lin\\appdata\\local\\programs\\python\\python37\\lib\\site-packages\\ipykernel_launcher.py:21: DeprecationWarning: time.clock has been deprecated in Python 3.3 and will be removed from Python 3.8: use time.perf_counter or time.process_time instead\n"
     ]
    },
    {
     "name": "stdout",
     "output_type": "stream",
     "text": [
      "  Epoch 0 @ step 0: Train Loss: 0.004334, Train Accuracy: 0.000000\n",
      "  Epoch 0 @ step 1000: Train Loss: 1.929356, Train Accuracy: 0.328500\n",
      "  Epoch 0 @ step 2000: Train Loss: 1.805348, Train Accuracy: 0.350500\n",
      "  Epoch 0 @ step 3000: Train Loss: 1.772009, Train Accuracy: 0.364250\n",
      "  Epoch 0 @ step 4000: Train Loss: 1.793065, Train Accuracy: 0.355000\n",
      "  Epoch 0 @ step 5000: Train Loss: 1.765384, Train Accuracy: 0.367125\n",
      "  Epoch 0 @ step 6000: Train Loss: 1.765050, Train Accuracy: 0.373375\n"
     ]
    },
    {
     "name": "stderr",
     "output_type": "stream",
     "text": [
      "c:\\users\\lin\\appdata\\local\\programs\\python\\python37\\lib\\site-packages\\ipykernel_launcher.py:65: DeprecationWarning: time.clock has been deprecated in Python 3.3 and will be removed from Python 3.8: use time.perf_counter or time.process_time instead\n"
     ]
    },
    {
     "name": "stdout",
     "output_type": "stream",
     "text": [
      "Epoch 0 Test Loss: 1.756498, Test Accuracy: 0.383800, time: 21.4s\n",
      "  Epoch 1 @ step 7000: Train Loss: 1.739061, Train Accuracy: 0.377625\n",
      "  Epoch 1 @ step 8000: Train Loss: 1.758800, Train Accuracy: 0.363625\n",
      "  Epoch 1 @ step 9000: Train Loss: 1.757227, Train Accuracy: 0.382750\n",
      "  Epoch 1 @ step 10000: Train Loss: 1.736796, Train Accuracy: 0.375750\n",
      "  Epoch 1 @ step 11000: Train Loss: 1.735421, Train Accuracy: 0.378250\n",
      "  Epoch 1 @ step 12000: Train Loss: 1.738906, Train Accuracy: 0.380625\n",
      "Epoch 1 Test Loss: 1.677877, Test Accuracy: 0.405200, time: 21.1s\n",
      "  Epoch 2 @ step 13000: Train Loss: 1.732050, Train Accuracy: 0.384125\n",
      "  Epoch 2 @ step 14000: Train Loss: 1.728041, Train Accuracy: 0.388375\n",
      "  Epoch 2 @ step 15000: Train Loss: 1.756280, Train Accuracy: 0.368750\n",
      "  Epoch 2 @ step 16000: Train Loss: 1.733150, Train Accuracy: 0.376125\n",
      "  Epoch 2 @ step 17000: Train Loss: 1.734703, Train Accuracy: 0.377625\n",
      "  Epoch 2 @ step 18000: Train Loss: 1.738622, Train Accuracy: 0.379000\n",
      "Epoch 2 Test Loss: 1.739987, Test Accuracy: 0.358800, time: 20.9s\n",
      "  Epoch 3 @ step 19000: Train Loss: 1.724838, Train Accuracy: 0.392125\n",
      "  Epoch 3 @ step 20000: Train Loss: 1.742486, Train Accuracy: 0.373375\n",
      "  Epoch 3 @ step 21000: Train Loss: 1.725879, Train Accuracy: 0.386375\n",
      "  Epoch 3 @ step 22000: Train Loss: 1.734137, Train Accuracy: 0.384250\n",
      "  Epoch 3 @ step 23000: Train Loss: 1.735161, Train Accuracy: 0.381000\n",
      "  Epoch 3 @ step 24000: Train Loss: 1.737024, Train Accuracy: 0.381250\n",
      "Epoch 3 Test Loss: 1.730497, Test Accuracy: 0.379200, time: 21.3s\n",
      "  Epoch 4 @ step 25000: Train Loss: 1.717091, Train Accuracy: 0.382250\n",
      "  Epoch 4 @ step 26000: Train Loss: 1.709589, Train Accuracy: 0.399250\n",
      "  Epoch 4 @ step 27000: Train Loss: 1.729257, Train Accuracy: 0.387375\n",
      "  Epoch 4 @ step 28000: Train Loss: 1.723917, Train Accuracy: 0.388375\n",
      "  Epoch 4 @ step 29000: Train Loss: 1.735324, Train Accuracy: 0.382875\n",
      "  Epoch 4 @ step 30000: Train Loss: 1.748291, Train Accuracy: 0.386625\n",
      "  Epoch 4 @ step 31000: Train Loss: 1.732974, Train Accuracy: 0.377625\n",
      "Epoch 4 Test Loss: 1.737857, Test Accuracy: 0.375000, time: 21.6s\n",
      "Final Test Loss: 1.737857, Test Accuracy: 0.375000, Total time: 106.2s\n"
     ]
    },
    {
     "name": "stderr",
     "output_type": "stream",
     "text": [
      "c:\\users\\lin\\appdata\\local\\programs\\python\\python37\\lib\\site-packages\\ipykernel_launcher.py:70: DeprecationWarning: time.clock has been deprecated in Python 3.3 and will be removed from Python 3.8: use time.perf_counter or time.process_time instead\n"
     ]
    }
   ],
   "source": [
    "class TwoLayerModel(nn.Module):\n",
    "  def __init__(self):\n",
    "    super(TwoLayerModel, self).__init__()\n",
    "    self.net = nn.Sequential(\n",
    "      Flatten(), \n",
    "      nn.Linear(input_dim, 64), \n",
    "      nn.ReLU(), \n",
    "      nn.Linear(64, 10))\n",
    "    \n",
    "  def forward(self, x):\n",
    "    return self.net(x)\n",
    "\n",
    "model = TwoLayerModel().to(device)\n",
    "\n",
    "loss = nn.CrossEntropyLoss()\n",
    "optimizer = optim.RMSprop(model.parameters(), lr=0.001, weight_decay=0.01)\n",
    "\n",
    "# Training epoch should be about 15-20 sec each on GPU.\n",
    "metrics = train(model, train_loader, test_loader, loss, optimizer, training_epochs)"
   ]
  },
  {
   "cell_type": "markdown",
   "metadata": {
    "colab_type": "text",
    "id": "qjbncuMnKpf7"
   },
   "source": [
    "**Plot the model results**\n",
    "\n",
    "Normally we would want to use Tensorboard for looking at metrics.  However, if colab reset while we are working, we might lose our logs and therefore our metrics.  Let's just plot some graphs that will survive across colab instances."
   ]
  },
  {
   "cell_type": "code",
   "execution_count": 11,
   "metadata": {
    "colab": {},
    "colab_type": "code",
    "id": "CuVL9MJ_D92h"
   },
   "outputs": [
    {
     "data": {
      "image/png": "[encoded data removed]",
      "text/plain": [
       "<Figure size 432x288 with 1 Axes>"
      ]
     },
     "metadata": {
      "needs_background": "light"
     },
     "output_type": "display_data"
    },
    {
     "data": {
      "image/png": "[encoded data removed]",
      "text/plain": [
       "<Figure size 432x288 with 1 Axes>"
      ]
     },
     "metadata": {
      "needs_background": "light"
     },
     "output_type": "display_data"
    }
   ],
   "source": [
    "plot_graphs(\"TwoLayerModel\", metrics)"
   ]
  },
  {
   "cell_type": "markdown",
   "metadata": {
    "colab_type": "text",
    "id": "4_xi8bkkfsM7"
   },
   "source": [
    "## Part 2 Convolutional Neural Network (CNN) (35 Points)\n",
    "\n",
    "Now, let's design a convolution neural netwrok!\n",
    "\n",
    "Build a simple CNN model, inserting 2 CNN layers in from of our 2 layer fully connect model from above:\n",
    "\n",
    "1. A convolution with\t3x3 filter, 16 output channels, stride = 1, padding=1\n",
    "2. A ReLU activation\n",
    "2. A Max-Pooling layer with 2x2 window\n",
    "3. A convolution,\t3x3 filter, 16 output channels, stride = 1, padding=1\n",
    "4. A ReLU activation\n",
    "4. Flatten layer\n",
    "5. Fully connected linear layer with output size 64\n",
    "6. ReLU\n",
    "7. Fully connected linear layer, with output size 10\n",
    "\n",
    "You will have to figure out the input sizes of the first fully connnected layer based on the previous layer sizes. Note that you also need to fill those in the report section (see report section in the notebook for details) "
   ]
  },
  {
   "cell_type": "code",
   "execution_count": 36,
   "metadata": {
    "colab": {},
    "colab_type": "code",
    "id": "tLXjjywngO7g",
    "scrolled": true
   },
   "outputs": [
    {
     "name": "stderr",
     "output_type": "stream",
     "text": [
      "c:\\users\\lin\\appdata\\local\\programs\\python\\python37\\lib\\site-packages\\ipykernel_launcher.py:18: DeprecationWarning: time.clock has been deprecated in Python 3.3 and will be removed from Python 3.8: use time.perf_counter or time.process_time instead\n",
      "c:\\users\\lin\\appdata\\local\\programs\\python\\python37\\lib\\site-packages\\ipykernel_launcher.py:21: DeprecationWarning: time.clock has been deprecated in Python 3.3 and will be removed from Python 3.8: use time.perf_counter or time.process_time instead\n"
     ]
    },
    {
     "name": "stdout",
     "output_type": "stream",
     "text": [
      "Output dimension after 1st conv layer:torch.Size([16, 32, 32])\n",
      "Output dimension after 1st max pooling:torch.Size([16, 16, 16])\n",
      "Output dimension after 2nd conv layer:torch.Size([16, 16, 16])\n",
      "Output dimension after flatten layer:torch.Size([4096])\n",
      "Output dimension after 1st fully connected layer:torch.Size([64])\n",
      "Output dimension after 2nd fully connected layer:torch.Size([10])\n",
      "  Epoch 0 @ step 0: Train Loss: 0.004265, Train Accuracy: 0.000250\n",
      "  Epoch 0 @ step 1000: Train Loss: 1.834686, Train Accuracy: 0.331375\n",
      "  Epoch 0 @ step 2000: Train Loss: 1.594682, Train Accuracy: 0.414500\n",
      "  Epoch 0 @ step 3000: Train Loss: 1.515353, Train Accuracy: 0.442625\n",
      "  Epoch 0 @ step 4000: Train Loss: 1.466056, Train Accuracy: 0.467125\n",
      "  Epoch 0 @ step 5000: Train Loss: 1.453893, Train Accuracy: 0.472125\n",
      "  Epoch 0 @ step 6000: Train Loss: 1.430408, Train Accuracy: 0.480375\n"
     ]
    },
    {
     "name": "stderr",
     "output_type": "stream",
     "text": [
      "c:\\users\\lin\\appdata\\local\\programs\\python\\python37\\lib\\site-packages\\ipykernel_launcher.py:65: DeprecationWarning: time.clock has been deprecated in Python 3.3 and will be removed from Python 3.8: use time.perf_counter or time.process_time instead\n"
     ]
    },
    {
     "name": "stdout",
     "output_type": "stream",
     "text": [
      "Epoch 0 Test Loss: 1.417713, Test Accuracy: 0.489700, time: 40.9s\n",
      "  Epoch 1 @ step 7000: Train Loss: 1.409004, Train Accuracy: 0.491375\n",
      "  Epoch 1 @ step 8000: Train Loss: 1.408774, Train Accuracy: 0.486500\n",
      "  Epoch 1 @ step 9000: Train Loss: 1.383839, Train Accuracy: 0.498250\n",
      "  Epoch 1 @ step 10000: Train Loss: 1.378237, Train Accuracy: 0.506000\n",
      "  Epoch 1 @ step 11000: Train Loss: 1.368373, Train Accuracy: 0.509375\n",
      "  Epoch 1 @ step 12000: Train Loss: 1.358656, Train Accuracy: 0.507125\n",
      "Epoch 1 Test Loss: 1.340053, Test Accuracy: 0.513300, time: 41.3s\n",
      "  Epoch 2 @ step 13000: Train Loss: 1.353009, Train Accuracy: 0.505375\n",
      "  Epoch 2 @ step 14000: Train Loss: 1.338851, Train Accuracy: 0.514125\n",
      "  Epoch 2 @ step 15000: Train Loss: 1.323832, Train Accuracy: 0.521875\n",
      "  Epoch 2 @ step 16000: Train Loss: 1.319499, Train Accuracy: 0.522750\n",
      "  Epoch 2 @ step 17000: Train Loss: 1.331155, Train Accuracy: 0.515500\n",
      "  Epoch 2 @ step 18000: Train Loss: 1.325442, Train Accuracy: 0.528250\n",
      "Epoch 2 Test Loss: 1.401598, Test Accuracy: 0.482500, time: 41.4s\n",
      "  Epoch 3 @ step 19000: Train Loss: 1.301850, Train Accuracy: 0.528625\n",
      "  Epoch 3 @ step 20000: Train Loss: 1.277440, Train Accuracy: 0.540250\n",
      "  Epoch 3 @ step 21000: Train Loss: 1.280378, Train Accuracy: 0.543500\n",
      "  Epoch 3 @ step 22000: Train Loss: 1.305262, Train Accuracy: 0.532250\n",
      "  Epoch 3 @ step 23000: Train Loss: 1.291066, Train Accuracy: 0.535500\n",
      "  Epoch 3 @ step 24000: Train Loss: 1.305151, Train Accuracy: 0.526250\n",
      "Epoch 3 Test Loss: 1.313822, Test Accuracy: 0.528400, time: 40.2s\n",
      "  Epoch 4 @ step 25000: Train Loss: 1.297654, Train Accuracy: 0.530250\n",
      "  Epoch 4 @ step 26000: Train Loss: 1.282941, Train Accuracy: 0.538125\n",
      "  Epoch 4 @ step 27000: Train Loss: 1.292598, Train Accuracy: 0.535375\n",
      "  Epoch 4 @ step 28000: Train Loss: 1.282904, Train Accuracy: 0.539750\n",
      "  Epoch 4 @ step 29000: Train Loss: 1.272162, Train Accuracy: 0.536750\n",
      "  Epoch 4 @ step 30000: Train Loss: 1.255087, Train Accuracy: 0.548500\n",
      "  Epoch 4 @ step 31000: Train Loss: 1.268466, Train Accuracy: 0.541250\n",
      "Epoch 4 Test Loss: 1.351214, Test Accuracy: 0.514800, time: 40.4s\n",
      "Final Test Loss: 1.351214, Test Accuracy: 0.514800, Total time: 204.1s\n"
     ]
    },
    {
     "name": "stderr",
     "output_type": "stream",
     "text": [
      "c:\\users\\lin\\appdata\\local\\programs\\python\\python37\\lib\\site-packages\\ipykernel_launcher.py:70: DeprecationWarning: time.clock has been deprecated in Python 3.3 and will be removed from Python 3.8: use time.perf_counter or time.process_time instead\n"
     ]
    }
   ],
   "source": [
    "class ConvModel(nn.Module):\n",
    "    def __init__(self):\n",
    "        super(ConvModel, self).__init__()\n",
    "        #convolution layer with 3x3 filter, 16 output channels, stride 1 and padding 1\n",
    "        self.conv1 = nn.Conv2d(3, 16, kernel_size=3, stride=1, padding=1)\n",
    "        \n",
    "        #nn ReLU\n",
    "        self.relu = nn.ReLU()\n",
    "        \n",
    "        #max-pooling layer with 2x2 window\n",
    "        self.pool = nn.MaxPool2d(2)\n",
    "        \n",
    "        #convolution layer with 3x3 filter, 16 output channels, stride 1 and padding 1\n",
    "        self.conv2 = nn.Conv2d(16, 16, kernel_size=3, stride=1, padding=1)\n",
    "        \n",
    "        #fully connected linear 1 layer with output size 64\n",
    "        self.fc1 = nn.Linear(16*16*16, 64)\n",
    "        \n",
    "        #fully connected linear 2 layer with input size 64 and output size 10\n",
    "        self.fc2 = nn.Linear(64, 10)\n",
    "        \n",
    "        self.printShape = True\n",
    "    \n",
    "    def forward(self, x):   \n",
    "        xConv1 = self.relu(self.conv1(x))\n",
    "        if self.printShape:\n",
    "            print('Output dimension after 1st conv layer:' + str(xConv1[0].shape))\n",
    "        \n",
    "        xMaxPool = self.pool(xConv1)\n",
    "        if self.printShape:\n",
    "            print('Output dimension after 1st max pooling:' + str(xMaxPool[0].shape))\n",
    "        \n",
    "        xConv2 = self.relu(self.conv2(xMaxPool))\n",
    "        if self.printShape:\n",
    "            print('Output dimension after 2nd conv layer:' + str(xConv2[0].shape))\n",
    "        \n",
    "        xConv2 = xConv2.view(-1, 16*16*16)\n",
    "        if self.printShape:\n",
    "            print('Output dimension after flatten layer:' + str(xConv2[0].shape))\n",
    "        \n",
    "        xFc1 = self.relu(self.fc1(xConv2))\n",
    "        if self.printShape:\n",
    "            print('Output dimension after 1st fully connected layer:' + str(xFc1[0].shape))\n",
    "        \n",
    "        xFc2 = self.fc2(xFc1)\n",
    "        if self.printShape:    \n",
    "            print('Output dimension after 2nd fully connected layer:' + str(xFc2[0].shape))\n",
    "        \n",
    "        self.printShape = False\n",
    "        return xFc2\n",
    "    \n",
    "model = ConvModel().to(device)\n",
    "\n",
    "loss = nn.CrossEntropyLoss()\n",
    "optimizer = optim.RMSprop(model.parameters(), lr=0.001, weight_decay=0.01)\n",
    "\n",
    "metrics = train(model, train_loader, test_loader, loss, optimizer, training_epochs)\n",
    "\n"
   ]
  },
  {
   "cell_type": "code",
   "execution_count": 37,
   "metadata": {
    "colab": {},
    "colab_type": "code",
    "id": "8BGTJw-TPTfh"
   },
   "outputs": [
    {
     "data": {
      "image/png": "[encoded data removed]",
      "text/plain": [
       "<Figure size 432x288 with 1 Axes>"
      ]
     },
     "metadata": {
      "needs_background": "light"
     },
     "output_type": "display_data"
    },
    {
     "data": {
      "image/png": "[encoded data removed]",
      "text/plain": [
       "<Figure size 432x288 with 1 Axes>"
      ]
     },
     "metadata": {
      "needs_background": "light"
     },
     "output_type": "display_data"
    }
   ],
   "source": [
    "plot_graphs(\"ConvModel\", metrics)"
   ]
  },
  {
   "cell_type": "markdown",
   "metadata": {
    "colab_type": "text",
    "id": "oFAc6IORmzCJ"
   },
   "source": [
    "Do you notice the improvement over the accuracy compared to that in Part 1?"
   ]
  },
  {
   "cell_type": "markdown",
   "metadata": {
    "colab_type": "text",
    "id": "hXpJgsjhftDP"
   },
   "source": [
    "## Part 3 Open Design Competition (35 Points + 10 bonus points)\n",
    "\n",
    "Try to beat the previous models by adding additional layers, changing parameters, etc.  You should add at least one layer.\n",
    "\n",
    "Possible changes include:\n",
    "*   Dropout\n",
    "*   Batch Normalization\n",
    "*   More layers\n",
    "*   Residual Connections (harder)\n",
    "*   Change layer size\n",
    "*   Pooling layers, stride\n",
    "*   Different optimizer\n",
    "*   Train for longer\n",
    "\n",
    "Once you have a model you think is great, evaluate it against our hidden test data (see hidden_loader above) and upload the results to the leader board on gradescope.  **The top 3 scorers will get a bonus 10 points.**\n",
    "\n",
    "You can steal model structures found on the internet if you want.  The only constraint is that **you must train the model from scratch**.\n"
   ]
  },
  {
   "cell_type": "code",
   "execution_count": 103,
   "metadata": {
    "colab": {},
    "colab_type": "code",
    "id": "QZFkuraiZOaT"
   },
   "outputs": [
    {
     "name": "stderr",
     "output_type": "stream",
     "text": [
      "c:\\users\\lin\\appdata\\local\\programs\\python\\python37\\lib\\site-packages\\ipykernel_launcher.py:18: DeprecationWarning: time.clock has been deprecated in Python 3.3 and will be removed from Python 3.8: use time.perf_counter or time.process_time instead\n",
      "c:\\users\\lin\\appdata\\local\\programs\\python\\python37\\lib\\site-packages\\ipykernel_launcher.py:21: DeprecationWarning: time.clock has been deprecated in Python 3.3 and will be removed from Python 3.8: use time.perf_counter or time.process_time instead\n"
     ]
    },
    {
     "name": "stdout",
     "output_type": "stream",
     "text": [
      "Output dimension after 1st conv layer:torch.Size([64, 32, 32])\n",
      "Output dimension after 1st max pooling:torch.Size([64, 16, 16])\n",
      "Output dimension after 2nd conv layer:torch.Size([64, 16, 16])\n",
      "Output dimension after 1st max pooling:torch.Size([64, 8, 8])\n",
      "Output dimension after 2nd conv layer:torch.Size([64, 8, 8])\n",
      "Output dimension after flatten layer:torch.Size([4096])\n",
      "Output dimension after 1st fully connected layer:torch.Size([64])\n",
      "Output dimension after 2nd fully connected layer:torch.Size([10])\n",
      "  Epoch 0 @ step 0: Train Loss: 0.004293, Train Accuracy: 0.000083\n",
      "  Epoch 0 @ step 1000: Train Loss: 1.657084, Train Accuracy: 0.389542\n",
      "  Epoch 0 @ step 2000: Train Loss: 1.292295, Train Accuracy: 0.535250\n"
     ]
    },
    {
     "name": "stderr",
     "output_type": "stream",
     "text": [
      "c:\\users\\lin\\appdata\\local\\programs\\python\\python37\\lib\\site-packages\\ipykernel_launcher.py:65: DeprecationWarning: time.clock has been deprecated in Python 3.3 and will be removed from Python 3.8: use time.perf_counter or time.process_time instead\n"
     ]
    },
    {
     "name": "stdout",
     "output_type": "stream",
     "text": [
      "Epoch 0 Test Loss: 1.447603, Test Accuracy: 0.492506, time: 17.5s\n",
      "  Epoch 1 @ step 3000: Train Loss: 1.136938, Train Accuracy: 0.594333\n",
      "  Epoch 1 @ step 4000: Train Loss: 1.052753, Train Accuracy: 0.629084\n",
      "Epoch 1 Test Loss: 1.043788, Test Accuracy: 0.632394, time: 17.4s\n",
      "  Epoch 2 @ step 5000: Train Loss: 0.942013, Train Accuracy: 0.666875\n",
      "  Epoch 2 @ step 6000: Train Loss: 0.908680, Train Accuracy: 0.678083\n",
      "Epoch 2 Test Loss: 0.924721, Test Accuracy: 0.673161, time: 16.9s\n",
      "  Epoch 3 @ step 7000: Train Loss: 0.829955, Train Accuracy: 0.707625\n",
      "  Epoch 3 @ step 8000: Train Loss: 0.817634, Train Accuracy: 0.713750\n",
      "Epoch 3 Test Loss: 0.877186, Test Accuracy: 0.691197, time: 17.0s\n",
      "  Epoch 4 @ step 9000: Train Loss: 0.754070, Train Accuracy: 0.736042\n",
      "  Epoch 4 @ step 10000: Train Loss: 0.746100, Train Accuracy: 0.738917\n",
      "Epoch 4 Test Loss: 0.851257, Test Accuracy: 0.701739, time: 16.8s\n",
      "  Epoch 5 @ step 11000: Train Loss: 0.690856, Train Accuracy: 0.761042\n",
      "  Epoch 5 @ step 12000: Train Loss: 0.681443, Train Accuracy: 0.759708\n",
      "Epoch 5 Test Loss: 0.802220, Test Accuracy: 0.724920, time: 16.6s\n",
      "  Epoch 6 @ step 13000: Train Loss: 0.651239, Train Accuracy: 0.771083\n",
      "  Epoch 6 @ step 14000: Train Loss: 0.627493, Train Accuracy: 0.780583\n",
      "Epoch 6 Test Loss: 0.861085, Test Accuracy: 0.706235, time: 16.4s\n",
      "  Epoch 7 @ step 15000: Train Loss: 0.617218, Train Accuracy: 0.783375\n",
      "  Epoch 7 @ step 16000: Train Loss: 0.589162, Train Accuracy: 0.794042\n",
      "Epoch 7 Test Loss: 0.845852, Test Accuracy: 0.715478, time: 16.5s\n",
      "  Epoch 8 @ step 17000: Train Loss: 0.572903, Train Accuracy: 0.796833\n",
      "  Epoch 8 @ step 18000: Train Loss: 0.546506, Train Accuracy: 0.809042\n",
      "Epoch 8 Test Loss: 0.784938, Test Accuracy: 0.737710, time: 16.6s\n",
      "  Epoch 9 @ step 19000: Train Loss: 0.549506, Train Accuracy: 0.810500\n",
      "  Epoch 9 @ step 20000: Train Loss: 0.503077, Train Accuracy: 0.821833\n",
      "Epoch 9 Test Loss: 0.837747, Test Accuracy: 0.730416, time: 16.6s\n",
      "  Epoch 10 @ step 21000: Train Loss: 0.521169, Train Accuracy: 0.819000\n",
      "  Epoch 10 @ step 22000: Train Loss: 0.468999, Train Accuracy: 0.835249\n",
      "Epoch 10 Test Loss: 0.773202, Test Accuracy: 0.743305, time: 16.6s\n",
      "  Epoch 11 @ step 23000: Train Loss: 0.495948, Train Accuracy: 0.827375\n",
      "  Epoch 11 @ step 24000: Train Loss: 0.432760, Train Accuracy: 0.848250\n",
      "  Epoch 11 @ step 25000: Train Loss: 0.474582, Train Accuracy: 0.831042\n",
      "Epoch 11 Test Loss: 0.824198, Test Accuracy: 0.737360, time: 16.7s\n",
      "  Epoch 12 @ step 26000: Train Loss: 0.401027, Train Accuracy: 0.859458\n",
      "  Epoch 12 @ step 27000: Train Loss: 0.444677, Train Accuracy: 0.845833\n",
      "Epoch 12 Test Loss: 0.822582, Test Accuracy: 0.738160, time: 16.4s\n",
      "  Epoch 13 @ step 28000: Train Loss: 0.383066, Train Accuracy: 0.865541\n",
      "  Epoch 13 @ step 29000: Train Loss: 0.409981, Train Accuracy: 0.858000\n",
      "Epoch 13 Test Loss: 0.799092, Test Accuracy: 0.743006, time: 16.4s\n",
      "  Epoch 14 @ step 30000: Train Loss: 0.368282, Train Accuracy: 0.870083\n",
      "  Epoch 14 @ step 31000: Train Loss: 0.391374, Train Accuracy: 0.863250\n",
      "Epoch 14 Test Loss: 0.774773, Test Accuracy: 0.760542, time: 16.3s\n",
      "  Epoch 15 @ step 32000: Train Loss: 0.348341, Train Accuracy: 0.877417\n",
      "  Epoch 15 @ step 33000: Train Loss: 0.357774, Train Accuracy: 0.873000\n",
      "Epoch 15 Test Loss: 0.824074, Test Accuracy: 0.748252, time: 16.4s\n",
      "  Epoch 16 @ step 34000: Train Loss: 0.332157, Train Accuracy: 0.884166\n",
      "  Epoch 16 @ step 35000: Train Loss: 0.339588, Train Accuracy: 0.880125\n",
      "Epoch 16 Test Loss: 0.870036, Test Accuracy: 0.740558, time: 16.3s\n",
      "  Epoch 17 @ step 36000: Train Loss: 0.322056, Train Accuracy: 0.886625\n",
      "  Epoch 17 @ step 37000: Train Loss: 0.323190, Train Accuracy: 0.884750\n",
      "Epoch 17 Test Loss: 0.860484, Test Accuracy: 0.742407, time: 16.5s\n",
      "  Epoch 18 @ step 38000: Train Loss: 0.303034, Train Accuracy: 0.895583\n",
      "  Epoch 18 @ step 39000: Train Loss: 0.301596, Train Accuracy: 0.892208\n",
      "Epoch 18 Test Loss: 0.886896, Test Accuracy: 0.737360, time: 16.4s\n",
      "  Epoch 19 @ step 40000: Train Loss: 0.291300, Train Accuracy: 0.896207\n",
      "  Epoch 19 @ step 41000: Train Loss: 0.279661, Train Accuracy: 0.900166\n",
      "Epoch 19 Test Loss: 0.926033, Test Accuracy: 0.743005, time: 16.4s\n",
      "  Epoch 20 @ step 42000: Train Loss: 0.275956, Train Accuracy: 0.902040\n",
      "  Epoch 20 @ step 43000: Train Loss: 0.264947, Train Accuracy: 0.904042\n",
      "Epoch 20 Test Loss: 1.134861, Test Accuracy: 0.704786, time: 16.6s\n",
      "  Epoch 21 @ step 44000: Train Loss: 0.272684, Train Accuracy: 0.902291\n",
      "  Epoch 21 @ step 45000: Train Loss: 0.245801, Train Accuracy: 0.913542\n",
      "Epoch 21 Test Loss: 1.035550, Test Accuracy: 0.735761, time: 16.6s\n",
      "  Epoch 22 @ step 46000: Train Loss: 0.263718, Train Accuracy: 0.903917\n",
      "  Epoch 22 @ step 47000: Train Loss: 0.229256, Train Accuracy: 0.919208\n",
      "Epoch 22 Test Loss: 0.912286, Test Accuracy: 0.743255, time: 16.4s\n",
      "  Epoch 23 @ step 48000: Train Loss: 0.260911, Train Accuracy: 0.905416\n",
      "  Epoch 23 @ step 49000: Train Loss: 0.220760, Train Accuracy: 0.922750\n",
      "  Epoch 23 @ step 50000: Train Loss: 0.251927, Train Accuracy: 0.911375\n",
      "Epoch 23 Test Loss: 1.113592, Test Accuracy: 0.711181, time: 16.3s\n",
      "  Epoch 24 @ step 51000: Train Loss: 0.200808, Train Accuracy: 0.930208\n",
      "  Epoch 24 @ step 52000: Train Loss: 0.243773, Train Accuracy: 0.913124\n",
      "Epoch 24 Test Loss: 0.954574, Test Accuracy: 0.747052, time: 16.5s\n",
      "  Epoch 25 @ step 53000: Train Loss: 0.194660, Train Accuracy: 0.933374\n",
      "  Epoch 25 @ step 54000: Train Loss: 0.238717, Train Accuracy: 0.915375\n",
      "Epoch 25 Test Loss: 1.070355, Test Accuracy: 0.728118, time: 16.5s\n",
      "  Epoch 26 @ step 55000: Train Loss: 0.191524, Train Accuracy: 0.932541\n",
      "  Epoch 26 @ step 56000: Train Loss: 0.226587, Train Accuracy: 0.919958\n",
      "Epoch 26 Test Loss: 1.039862, Test Accuracy: 0.732664, time: 16.5s\n",
      "  Epoch 27 @ step 57000: Train Loss: 0.186613, Train Accuracy: 0.934333\n",
      "  Epoch 27 @ step 58000: Train Loss: 0.210392, Train Accuracy: 0.923791\n",
      "Epoch 27 Test Loss: 1.167262, Test Accuracy: 0.715328, time: 16.5s\n",
      "  Epoch 28 @ step 59000: Train Loss: 0.190133, Train Accuracy: 0.934499\n",
      "  Epoch 28 @ step 60000: Train Loss: 0.206178, Train Accuracy: 0.925500\n",
      "Epoch 28 Test Loss: 1.222624, Test Accuracy: 0.716277, time: 16.4s\n",
      "  Epoch 29 @ step 61000: Train Loss: 0.184801, Train Accuracy: 0.934916\n",
      "  Epoch 29 @ step 62000: Train Loss: 0.197207, Train Accuracy: 0.930542\n",
      "Epoch 29 Test Loss: 1.029158, Test Accuracy: 0.738709, time: 16.5s\n",
      "Final Test Loss: 1.029158, Test Accuracy: 0.738709, Total time: 497.4s\n"
     ]
    },
    {
     "name": "stderr",
     "output_type": "stream",
     "text": [
      "c:\\users\\lin\\appdata\\local\\programs\\python\\python37\\lib\\site-packages\\ipykernel_launcher.py:70: DeprecationWarning: time.clock has been deprecated in Python 3.3 and will be removed from Python 3.8: use time.perf_counter or time.process_time instead\n"
     ]
    }
   ],
   "source": [
    "imgSize = 32\n",
    "outChannel = 64\n",
    "kernelSize = 3\n",
    "maxPoolWindow = 2\n",
    "fcSize = imgSize // maxPoolWindow // maxPoolWindow\n",
    "class AwesomeModel(nn.Module):\n",
    "    def __init__(self):\n",
    "        super(AwesomeModel, self).__init__()\n",
    "        #convolution layer 1 with 3x3 filter stride 1 and padding 1\n",
    "        self.conv1 = nn.Conv2d(3, outChannel, kernel_size=kernelSize, stride=1, padding=1)\n",
    "        \n",
    "        #nn ReLU\n",
    "        self.relu = nn.ReLU()\n",
    "        \n",
    "        #max-pooling layer with 2x2 window\n",
    "        self.pool = nn.MaxPool2d(maxPoolWindow)\n",
    "        \n",
    "        #convolution layer 2 with 3x3 filter, stride 1 and padding 1\n",
    "        self.conv2 = nn.Conv2d(outChannel, outChannel, kernel_size=kernelSize, stride=1, padding=1)\n",
    "        \n",
    "        #fully connected linear 1 layer with output size 64\n",
    "        self.fc1 = nn.Linear(fcSize*fcSize*outChannel, 64)\n",
    "        \n",
    "        #fully connected linear 2 layer with input size 64 and output size 10\n",
    "        self.fc2 = nn.Linear(64, 10)\n",
    "        \n",
    "        self.printShape = True\n",
    "    \n",
    "    def forward(self, x):   \n",
    "        xConv1 = self.relu(self.conv1(x))\n",
    "        if self.printShape:\n",
    "            print('Output dimension after 1st conv layer:' + str(xConv1[0].shape))\n",
    "        \n",
    "        xMaxPool = self.pool(xConv1)\n",
    "        if self.printShape:\n",
    "            print('Output dimension after 1st max pooling:' + str(xMaxPool[0].shape))\n",
    "        \n",
    "        xConv2 = self.relu(self.conv2(xMaxPool))\n",
    "        if self.printShape:\n",
    "            print('Output dimension after 2nd conv layer:' + str(xConv2[0].shape))\n",
    "        \n",
    "        xMaxPool = self.pool(xConv2)\n",
    "        if self.printShape:\n",
    "            print('Output dimension after 1st max pooling:' + str(xMaxPool[0].shape))\n",
    "            \n",
    "        xConv2 = self.relu(self.conv2(xMaxPool))\n",
    "        if self.printShape:\n",
    "            print('Output dimension after 2nd conv layer:' + str(xConv2[0].shape))\n",
    "        \n",
    "        xConv2 = xConv2.view(-1, fcSize*fcSize*outChannel)\n",
    "        if self.printShape:\n",
    "            print('Output dimension after flatten layer:' + str(xConv2[0].shape))\n",
    "        \n",
    "        xFc1 = self.relu(self.fc1(xConv2))\n",
    "        if self.printShape:\n",
    "            print('Output dimension after 1st fully connected layer:' + str(xFc1[0].shape))\n",
    "        \n",
    "        xFc2 = self.fc2(xFc1)\n",
    "        if self.printShape:    \n",
    "            print('Output dimension after 2nd fully connected layer:' + str(xFc2[0].shape))\n",
    "        \n",
    "        self.printShape = False\n",
    "        return xFc2\n",
    "\n",
    "batch_size = 24\n",
    "train_loader = torch.utils.data.DataLoader(train_set, batch_size, shuffle=True, num_workers=2)\n",
    "test_loader = torch.utils.data.DataLoader(test_set, batch_size, shuffle=True, num_workers=2)\n",
    "model = AwesomeModel().to(device)\n",
    "\n",
    "loss = nn.CrossEntropyLoss()\n",
    "optimizer = optim.RMSprop(model.parameters(), lr=0.0005, weight_decay=0.001)\n",
    "training_epochs = 30\n",
    "metrics = train(model, train_loader, test_loader, loss, optimizer, training_epochs)"
   ]
  },
  {
   "cell_type": "markdown",
   "metadata": {
    "colab_type": "text",
    "id": "xbx5REUdc-Xs"
   },
   "source": [
    "**What changes did you make to improve your model?**"
   ]
  },
  {
   "cell_type": "code",
   "execution_count": 104,
   "metadata": {
    "colab": {},
    "colab_type": "code",
    "id": "uItu0w4fZTuG"
   },
   "outputs": [
    {
     "data": {
      "image/png": "[encoded data removed]",
      "text/plain": [
       "<Figure size 432x288 with 1 Axes>"
      ]
     },
     "metadata": {
      "needs_background": "light"
     },
     "output_type": "display_data"
    },
    {
     "data": {
      "image/png": "[encoded data removed]",
      "text/plain": [
       "<Figure size 432x288 with 1 Axes>"
      ]
     },
     "metadata": {
      "needs_background": "light"
     },
     "output_type": "display_data"
    }
   ],
   "source": [
    "plot_graphs(\"AwesomeModel\", metrics)"
   ]
  },
  {
   "cell_type": "markdown",
   "metadata": {
    "colab_type": "text",
    "id": "rWlP2WsodgK0"
   },
   "source": [
    "After you get a nice model, download the test_file.zip and unzip it to get test_file.pt. In colab, you can explore your files from the left side bar. You can also download the files to your machine from there."
   ]
  },
  {
   "cell_type": "code",
   "execution_count": 108,
   "metadata": {
    "colab": {},
    "colab_type": "code",
    "id": "Z6UZInUCdfQ1"
   },
   "outputs": [
    {
     "name": "stderr",
     "output_type": "stream",
     "text": [
      "'wget' is not recognized as an internal or external command,\n",
      "operable program or batch file.\n",
      "'unzip' is not recognized as an internal or external command,\n",
      "operable program or batch file.\n"
     ]
    }
   ],
   "source": [
    "!wget http://courses.engr.illinois.edu/cs498aml/sp2019/homeworks/test_file.zip\n",
    "!unzip test_file.zip"
   ]
  },
  {
   "cell_type": "markdown",
   "metadata": {
    "colab_type": "text",
    "id": "7g5caFPreMLT"
   },
   "source": [
    "Then use your model to predict the label of the test images. Fill the remaining code below, where x has two dimensions (batch_size x one image size). Remember to reshpe x accordingly before feeding it into your model. The submission.txt should contain one predicted label (0~9) each line. Submit your submission.txt to the competition in gradscope."
   ]
  },
  {
   "cell_type": "code",
   "execution_count": 142,
   "metadata": {
    "colab": {},
    "colab_type": "code",
    "id": "yNdYAH9XeLlb"
   },
   "outputs": [],
   "source": [
    "import torch.utils.data as Data\n",
    "\n",
    "test_file = 'test_file.pt'\n",
    "pred_file = 'submission.txt'\n",
    "\n",
    "f_pred = open(pred_file,'w') \n",
    "tensor = torch.load(test_file)\n",
    "torch_dataset = Data.TensorDataset(tensor)  \n",
    "test_loader = torch.utils.data.DataLoader(torch_dataset, batch_size, shuffle=False, num_workers=2)\n",
    "\n",
    "for ele in test_loader:\n",
    "    x = ele[0]\n",
    "    batch = x.size()[0]\n",
    "    x = x.reshape(batch,3,32,32).to(device)    \n",
    "    output = model(x)\n",
    "    for p in torch.argmax(output, dim=1):\n",
    "        f_pred.write(str(int(p)))\n",
    "        f_pred.write('\\n')\n",
    "    \n",
    "f_pred.close()"
   ]
  },
  {
   "cell_type": "markdown",
   "metadata": {
    "colab_type": "text",
    "id": "8-L6F0CMqc-A"
   },
   "source": [
    "\n",
    "# Report\n",
    "\n",
    "## Part 0: Imports and Basic Setup (5 Points)\n",
    "Nothing to report for this part. You will be just scored for finishing the setup.\n",
    "\n",
    "## Part 1: Fully connected neural networks (25 Points)\n",
    "\n",
    "Test (on validation set) accuracy (5 Points):\n",
    "\n",
    "Test loss (5 Points):\n",
    "\n",
    "Training time (5 Points):\n",
    "\n",
    "\n",
    "Plots:\n",
    "\n",
    "- Plot a graph of accuracy on validation set vs training steps (5 Points)\n",
    "\n",
    "- Plot a graph of loss on validation set vs training steps (5 Points)\n",
    "\n",
    "\n",
    "## Part 2: Convolution Network (Basic) (35 Points)\n",
    "\n",
    "Tensor dimensions: A good way to debug your network for size mismatches is to print the dimension of output after every layers:\n",
    "\n",
    "(10 Points)\n",
    "\n",
    "Output dimension after 1st conv layer: \n",
    "\n",
    "Output dimension after 1st max pooling: \n",
    "\n",
    "Output dimension after 2nd conv layer: \n",
    "\n",
    "Output dimension after flatten layer:\n",
    "\n",
    "Output dimension after 1st fully connected layer:\n",
    "\n",
    "Output dimension after 2nd fully connected layer:\n",
    "\n",
    "\n",
    "Test (on validation set) Accuracy (5 Points):\n",
    "\n",
    "Test loss (5 Points):\n",
    "\n",
    "Training time (5 Points):\n",
    "\n",
    "\n",
    "Plots:\n",
    "\n",
    "- Plot a graph of accuracy on validation set vs training steps (5 Points)\n",
    "\n",
    "- Plot a graph of loss on validation set vs training steps (5 Points)\n",
    "\n",
    "\n",
    "\n",
    "## Part 3: Convolution Network (Add one or more  suggested changes) (35 Points)\n",
    "\n",
    "Describe the additional changes implemented, your intuition for as to why it works, you may also describe other approaches you experimented with (10 Points):\n",
    "\n",
    "\n",
    "Test (on validation set) Accuracy (5 Points):\n",
    "\n",
    "Test loss (5 Points):\n",
    "\n",
    "Training time (5 Points):\n",
    "\n",
    "\n",
    "Plots:\n",
    "\n",
    "- Plot a graph of accuracy on validation set vs training steps (5 Points)\n",
    "\n",
    "- Plot a graph of loss on validation set vs training steps (5 Points)\n",
    "\n",
    "10 bonus points will be awarded to top 3 scorers on leaderboard (in case of tie for 3rd position everyone tied for 3rd position will get the bonus)"
   ]
  },
  {
   "cell_type": "code",
   "execution_count": null,
   "metadata": {},
   "outputs": [],
   "source": []
  },
  {
   "cell_type": "code",
   "execution_count": null,
   "metadata": {},
   "outputs": [],
   "source": []
  }
 ],
 "metadata": {
  "accelerator": "GPU",
  "colab": {
   "collapsed_sections": [],
   "name": "AML_HW10.ipynb",
   "provenance": [],
   "version": "0.3.2"
  },
  "kernelspec": {
   "display_name": "Python 3",
   "language": "python",
   "name": "python3"
  },
  "language_info": {
   "codemirror_mode": {
    "name": "ipython",
    "version": 3
   },
   "file_extension": ".py",
   "mimetype": "text/x-python",
   "name": "python",
   "nbconvert_exporter": "python",
   "pygments_lexer": "ipython3",
   "version": "3.7.3"
  }
 },
 "nbformat": 4,
 "nbformat_minor": 1
}
